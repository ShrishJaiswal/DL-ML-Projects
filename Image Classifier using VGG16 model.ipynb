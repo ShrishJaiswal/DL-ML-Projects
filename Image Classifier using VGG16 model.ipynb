{
 "cells": [
  {
   "cell_type": "markdown",
   "metadata": {
    "button": false,
    "id": "yYv4TZOqhAkj",
    "new_sheet": false,
    "run_control": {
     "read_only": false
    }
   },
   "source": [
    "## Image Classifier Using VGG16 model and testing performance with ResNet50 model"
   ]
  },
  {
   "cell_type": "markdown",
   "metadata": {
    "id": "1e5wkXQ9hAkm"
   },
   "source": [
    "Use the <code>wget</code> command to download the data from here: https://s3-api.us-geo.objectstorage.softlayer.net/cf-courses-data/CognitiveClass/DL0321EN/data/concrete_data_week4.zip"
   ]
  },
  {
   "cell_type": "markdown",
   "metadata": {
    "id": "ctSlQ38NhAkn"
   },
   "source": [
    "Use the following cells to download the data."
   ]
  },
  {
   "cell_type": "code",
   "execution_count": 1,
   "metadata": {
    "colab": {
     "base_uri": "https://localhost:8080/"
    },
    "id": "RKJBV_AehAkn",
    "outputId": "8f571a69-9ce7-49d5-bfe8-4a3dd083a978"
   },
   "outputs": [
    {
     "name": "stdout",
     "output_type": "stream",
     "text": [
      "--2021-05-08 15:08:18--  https://s3-api.us-geo.objectstorage.softlayer.net/cf-courses-data/CognitiveClass/DL0321EN/data/concrete_data_week4.zip\n",
      "Resolving s3-api.us-geo.objectstorage.softlayer.net (s3-api.us-geo.objectstorage.softlayer.net)... 67.228.254.196\n",
      "Connecting to s3-api.us-geo.objectstorage.softlayer.net (s3-api.us-geo.objectstorage.softlayer.net)|67.228.254.196|:443... connected.\n",
      "HTTP request sent, awaiting response... 200 OK\n",
      "Length: 261483817 (249M) [application/zip]\n",
      "Saving to: ‘concrete_data_week4.zip’\n",
      "\n",
      "concrete_data_week4 100%[===================>] 249.37M  36.7MB/s    in 7.5s    \n",
      "\n",
      "2021-05-08 15:08:26 (33.3 MB/s) - ‘concrete_data_week4.zip’ saved [261483817/261483817]\n",
      "\n"
     ]
    }
   ],
   "source": [
    "!wget https://s3-api.us-geo.objectstorage.softlayer.net/cf-courses-data/CognitiveClass/DL0321EN/data/concrete_data_week4.zip"
   ]
  },
  {
   "cell_type": "code",
   "execution_count": 2,
   "metadata": {
    "id": "ddCb2-a6hAko"
   },
   "outputs": [],
   "source": [
    "!unzip -q concrete_data_week4.zip"
   ]
  },
  {
   "cell_type": "code",
   "execution_count": 23,
   "metadata": {
    "id": "MlC3tp8JhAkr"
   },
   "outputs": [],
   "source": [
    "from keras.preprocessing.image import ImageDataGenerator\n",
    "from keras.models import Sequential\n",
    "from keras.layers import Dense\n",
    "from keras.applications import VGG16\n",
    "from keras.applications.vgg16 import preprocess_input"
   ]
  },
  {
   "cell_type": "code",
   "execution_count": 24,
   "metadata": {
    "colab": {
     "base_uri": "https://localhost:8080/",
     "height": 35
    },
    "id": "llqUP-PclRxg",
    "outputId": "1f414b36-8e16-4689-adea-616f0749feeb"
   },
   "outputs": [
    {
     "data": {
      "application/vnd.google.colaboratory.intrinsic+json": {
       "type": "string"
      },
      "text/plain": [
       "'/content'"
      ]
     },
     "execution_count": 24,
     "metadata": {
      "tags": []
     },
     "output_type": "execute_result"
    }
   ],
   "source": [
    "pwd"
   ]
  },
  {
   "cell_type": "code",
   "execution_count": 25,
   "metadata": {
    "id": "tBAerG_NhAks"
   },
   "outputs": [],
   "source": [
    "num_classes = 2\n",
    "batch_size = 100\n",
    "image_size = (224, 224)"
   ]
  },
  {
   "cell_type": "code",
   "execution_count": 38,
   "metadata": {
    "colab": {
     "base_uri": "https://localhost:8080/"
    },
    "id": "IZcOjyoJhAks",
    "outputId": "eeedccb3-5ebf-41eb-9879-6dee2290bf9e",
    "scrolled": true
   },
   "outputs": [
    {
     "name": "stdout",
     "output_type": "stream",
     "text": [
      "Found 30001 images belonging to 2 classes.\n",
      "Found 9501 images belonging to 2 classes.\n"
     ]
    }
   ],
   "source": [
    "generator = ImageDataGenerator(preprocessing_function=preprocess_input)\n",
    "\n",
    "training_generator = generator.flow_from_directory(\n",
    "    \"concrete_data_week4/train\",\n",
    "    target_size=image_size,\n",
    "    batch_size=batch_size,\n",
    "    class_mode=\"categorical\",\n",
    ")\n",
    "validation_generator = generator.flow_from_directory(\n",
    "    \"concrete_data_week4/valid\",\n",
    "    target_size=image_size,\n",
    "    batch_size=batch_size,\n",
    "    class_mode=\"categorical\",\n",
    ")"
   ]
  },
  {
   "cell_type": "code",
   "execution_count": 39,
   "metadata": {
    "colab": {
     "base_uri": "https://localhost:8080/"
    },
    "id": "c-bW51ethAks",
    "outputId": "8f94343a-63a7-40ae-f204-24f25d823231"
   },
   "outputs": [
    {
     "name": "stdout",
     "output_type": "stream",
     "text": [
      "Model: \"sequential_2\"\n",
      "_________________________________________________________________\n",
      "Layer (type)                 Output Shape              Param #   \n",
      "=================================================================\n",
      "vgg16 (Functional)           (None, 512)               14714688  \n",
      "_________________________________________________________________\n",
      "dense_2 (Dense)              (None, 2)                 1026      \n",
      "=================================================================\n",
      "Total params: 14,715,714\n",
      "Trainable params: 1,026\n",
      "Non-trainable params: 14,714,688\n",
      "_________________________________________________________________\n"
     ]
    }
   ],
   "source": [
    "model_vgg16 = Sequential()\n",
    "\n",
    "model_vgg16.add(VGG16(include_top=False, pooling=\"avg\", weights=\"imagenet\",))\n",
    "model_vgg16.add(Dense(num_classes, activation=\"softmax\"))\n",
    "\n",
    "model_vgg16.layers[0].trainable = False\n",
    "\n",
    "model_vgg16.summary()"
   ]
  },
  {
   "cell_type": "code",
   "execution_count": 40,
   "metadata": {
    "id": "gyiPxi2HhAkt"
   },
   "outputs": [],
   "source": [
    "model_vgg16.compile(\n",
    "    optimizer=\"adam\", loss=\"categorical_crossentropy\", metrics=[\"accuracy\"]\n",
    ")"
   ]
  },
  {
   "cell_type": "code",
   "execution_count": 41,
   "metadata": {
    "colab": {
     "base_uri": "https://localhost:8080/"
    },
    "id": "ZRGldHQOhAkt",
    "outputId": "28bb9bbb-969e-4337-f5c7-e353a076cf29"
   },
   "outputs": [
    {
     "name": "stderr",
     "output_type": "stream",
     "text": [
      "/usr/local/lib/python3.7/dist-packages/tensorflow/python/keras/engine/training.py:1844: UserWarning: `Model.fit_generator` is deprecated and will be removed in a future version. Please use `Model.fit`, which supports generators.\n",
      "  warnings.warn('`Model.fit_generator` is deprecated and '\n"
     ]
    },
    {
     "name": "stdout",
     "output_type": "stream",
     "text": [
      "Epoch 1/2\n",
      "301/301 [==============================] - 300s 995ms/step - loss: 0.2189 - accuracy: 0.9020 - val_loss: 0.0244 - val_accuracy: 0.9955\n",
      "Epoch 2/2\n",
      "301/301 [==============================] - 299s 995ms/step - loss: 0.0210 - accuracy: 0.9958 - val_loss: 0.0142 - val_accuracy: 0.9968\n"
     ]
    }
   ],
   "source": [
    "num_epochs = 2\n",
    "steps_per_epoch_training = len(training_generator)\n",
    "steps_per_epoch_validation = len(validation_generator)\n",
    "\n",
    "history_vgg16 = model_vgg16.fit_generator(\n",
    "    training_generator,\n",
    "    steps_per_epoch=steps_per_epoch_training,\n",
    "    epochs=num_epochs,\n",
    "    validation_data=validation_generator,\n",
    "    validation_steps=steps_per_epoch_validation,\n",
    "    verbose=1,\n",
    ")"
   ]
  },
  {
   "cell_type": "code",
   "execution_count": 42,
   "metadata": {
    "colab": {
     "base_uri": "https://localhost:8080/"
    },
    "id": "fJ4v_Ud8hAkt",
    "outputId": "67edf87c-993f-4b30-9745-b6f598f7c85b"
   },
   "outputs": [
    {
     "name": "stdout",
     "output_type": "stream",
     "text": [
      "INFO:tensorflow:Assets written to: /content/assets\n"
     ]
    }
   ],
   "source": [
    "model_vgg16.save(\"/content\")"
   ]
  },
  {
   "cell_type": "code",
   "execution_count": 43,
   "metadata": {
    "id": "gfev65R6ld4v"
   },
   "outputs": [],
   "source": [
    "from keras.models import load_model\n",
    "\n",
    "model_resnet50 = load_model(\"/content\")"
   ]
  },
  {
   "cell_type": "code",
   "execution_count": 46,
   "metadata": {
    "colab": {
     "base_uri": "https://localhost:8080/"
    },
    "id": "JPDNQCoDleNa",
    "outputId": "897104de-d8ed-43e4-f141-14a4794fcf64"
   },
   "outputs": [
    {
     "name": "stdout",
     "output_type": "stream",
     "text": [
      "Found 500 images belonging to 2 classes.\n"
     ]
    }
   ],
   "source": [
    "testing_generator = generator.flow_from_directory(\n",
    "    \"concrete_data_week4/test\", target_size=image_size, shuffle=False,\n",
    ")"
   ]
  },
  {
   "cell_type": "code",
   "execution_count": 47,
   "metadata": {
    "colab": {
     "base_uri": "https://localhost:8080/"
    },
    "id": "kTf0w6nphAkw",
    "outputId": "e09d8c88-ef70-4e21-c992-908b058f5277"
   },
   "outputs": [
    {
     "name": "stderr",
     "output_type": "stream",
     "text": [
      "/usr/local/lib/python3.7/dist-packages/tensorflow/python/keras/engine/training.py:1877: UserWarning: `Model.evaluate_generator` is deprecated and will be removed in a future version. Please use `Model.evaluate`, which supports generators.\n",
      "  warnings.warn('`Model.evaluate_generator` is deprecated and '\n"
     ]
    },
    {
     "name": "stdout",
     "output_type": "stream",
     "text": [
      "Performance of the VGG16-trained model\n",
      "Loss: 0.01258\n",
      "Accuracy: 0.998\n"
     ]
    }
   ],
   "source": [
    "performance_vgg16 = model_vgg16.evaluate_generator(testing_generator)\n",
    "print(\"Performance of the VGG16-trained model\")\n",
    "print(\"Loss: {}\".format(round(performance_vgg16[0], 5)))\n",
    "print(\"Accuracy: {}\".format(round(performance_vgg16[1], 5)))"
   ]
  },
  {
   "cell_type": "code",
   "execution_count": 48,
   "metadata": {
    "colab": {
     "base_uri": "https://localhost:8080/"
    },
    "id": "4bUEWZZPhAkx",
    "outputId": "c99fd84e-b244-4616-f072-03ba861a90ad"
   },
   "outputs": [
    {
     "name": "stderr",
     "output_type": "stream",
     "text": [
      "/usr/local/lib/python3.7/dist-packages/tensorflow/python/keras/engine/training.py:1877: UserWarning: `Model.evaluate_generator` is deprecated and will be removed in a future version. Please use `Model.evaluate`, which supports generators.\n",
      "  warnings.warn('`Model.evaluate_generator` is deprecated and '\n"
     ]
    },
    {
     "name": "stdout",
     "output_type": "stream",
     "text": [
      "Performance of the ResNet50-trained model\n",
      "Loss: 0.01258\n",
      "Accuracy: 0.998\n"
     ]
    }
   ],
   "source": [
    "performance_resnet50 = model_resnet50.evaluate_generator(testing_generator)\n",
    "print(\"Performance of the ResNet50-trained model\")\n",
    "print(\"Loss: {}\".format(round(performance_resnet50[0], 5)))\n",
    "print(\"Accuracy: {}\".format(round(performance_resnet50[1], 5)))"
   ]
  },
  {
   "cell_type": "markdown",
   "metadata": {
    "id": "Tg35co-lhAky"
   },
   "source": [
    "In this model, we will predict whether the images in the test data are images of cracked concrete or not."
   ]
  },
  {
   "cell_type": "code",
   "execution_count": 44,
   "metadata": {
    "colab": {
     "base_uri": "https://localhost:8080/"
    },
    "id": "-E-pfWPChAkz",
    "outputId": "2da2abbb-77a0-4797-eb79-b753459445a2"
   },
   "outputs": [
    {
     "name": "stderr",
     "output_type": "stream",
     "text": [
      "/usr/local/lib/python3.7/dist-packages/tensorflow/python/keras/engine/training.py:1905: UserWarning: `Model.predict_generator` is deprecated and will be removed in a future version. Please use `Model.predict`, which supports generators.\n",
      "  warnings.warn('`Model.predict_generator` is deprecated and '\n"
     ]
    },
    {
     "name": "stdout",
     "output_type": "stream",
     "text": [
      "First five predictions for the VGG16-trained model:\n",
      "Negative (99.8% certainty)\n",
      "Negative (94.4% certainty)\n",
      "Negative (95.8% certainty)\n",
      "Negative (99.2% certainty)\n",
      "Negative (99.0% certainty)\n"
     ]
    }
   ],
   "source": [
    "predictions_vgg16 = model_vgg16.predict_generator(testing_generator, steps=1)\n",
    "\n",
    "\n",
    "def print_prediction(prediction):\n",
    "    if prediction[0] > prediction[1]:\n",
    "        print(\"Negative ({}% certainty)\".format(round(prediction[0] * 100, 1)))\n",
    "    elif prediction[1] > prediction[0]:\n",
    "        print(\"Positive ({}% certainty)\".format(round(prediction[1] * 100, 1)))\n",
    "    else:\n",
    "        print(\"Unsure (prediction split 50–50)\")\n",
    "\n",
    "\n",
    "print(\"First five predictions for the VGG16-trained model:\")\n",
    "for i in range(5):\n",
    "    print_prediction(predictions_vgg16[i])"
   ]
  },
  {
   "cell_type": "code",
   "execution_count": 45,
   "metadata": {
    "colab": {
     "base_uri": "https://localhost:8080/"
    },
    "id": "j0eNbQ50hAkz",
    "outputId": "4b0e9037-5d5e-4db3-cf5e-edd9ddbacd7b"
   },
   "outputs": [
    {
     "name": "stderr",
     "output_type": "stream",
     "text": [
      "/usr/local/lib/python3.7/dist-packages/tensorflow/python/keras/engine/training.py:1905: UserWarning: `Model.predict_generator` is deprecated and will be removed in a future version. Please use `Model.predict`, which supports generators.\n",
      "  warnings.warn('`Model.predict_generator` is deprecated and '\n"
     ]
    },
    {
     "name": "stdout",
     "output_type": "stream",
     "text": [
      "First five predictions for the ResNet50-trained model:\n",
      "Negative (99.8% certainty)\n",
      "Negative (94.4% certainty)\n",
      "Negative (95.8% certainty)\n",
      "Negative (99.2% certainty)\n",
      "Negative (99.0% certainty)\n"
     ]
    }
   ],
   "source": [
    "predictions_resnet50 = model_resnet50.predict_generator(testing_generator, steps=1)\n",
    "print(\"First five predictions for the ResNet50-trained model:\")\n",
    "for i in range(5):\n",
    "    print_prediction(predictions_resnet50[i])"
   ]
  }
 ],
 "metadata": {
  "accelerator": "GPU",
  "colab": {
   "collapsed_sections": [],
   "name": "DL0321EN-4-1-Comparing-Models-py.ipynb",
   "provenance": []
  },
  "kernelspec": {
   "display_name": "Python 3",
   "language": "python",
   "name": "python3"
  },
  "language_info": {
   "codemirror_mode": {
    "name": "ipython",
    "version": 3
   },
   "file_extension": ".py",
   "mimetype": "text/x-python",
   "name": "python",
   "nbconvert_exporter": "python",
   "pygments_lexer": "ipython3",
   "version": "3.8.10"
  }
 },
 "nbformat": 4,
 "nbformat_minor": 1
}
